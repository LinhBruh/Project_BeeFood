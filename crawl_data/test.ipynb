{
 "cells": [
  {
   "cell_type": "code",
   "execution_count": 3,
   "id": "eb44fcc4",
   "metadata": {},
   "outputs": [
    {
     "ename": "RuntimeError",
     "evalue": "asyncio.run() cannot be called from a running event loop",
     "output_type": "error",
     "traceback": [
      "\u001b[31m---------------------------------------------------------------------------\u001b[39m",
      "\u001b[31mRuntimeError\u001b[39m                              Traceback (most recent call last)",
      "\u001b[36mCell\u001b[39m\u001b[36m \u001b[39m\u001b[32mIn[3]\u001b[39m\u001b[32m, line 65\u001b[39m\n\u001b[32m     63\u001b[39m \u001b[38;5;28;01mif\u001b[39;00m \u001b[34m__name__\u001b[39m == \u001b[33m\"\u001b[39m\u001b[33m__main__\u001b[39m\u001b[33m\"\u001b[39m:\n\u001b[32m     64\u001b[39m     \u001b[38;5;28;01masync\u001b[39;00m \u001b[38;5;28;01mwith\u001b[39;00m aiohttp.ClientSession() \u001b[38;5;28;01mas\u001b[39;00m session:\n\u001b[32m---> \u001b[39m\u001b[32m65\u001b[39m      \u001b[38;5;28mprint\u001b[39m (\u001b[43masyncio\u001b[49m\u001b[43m.\u001b[49m\u001b[43mrun\u001b[49m\u001b[43m(\u001b[49m\u001b[43mget_token\u001b[49m\u001b[43m(\u001b[49m\u001b[43msession\u001b[49m\u001b[43m)\u001b[49m\u001b[43m)\u001b[49m)\n",
      "\u001b[36mFile \u001b[39m\u001b[32m~/miniconda3/lib/python3.13/asyncio/runners.py:191\u001b[39m, in \u001b[36mrun\u001b[39m\u001b[34m(main, debug, loop_factory)\u001b[39m\n\u001b[32m    161\u001b[39m \u001b[38;5;250m\u001b[39m\u001b[33;03m\"\"\"Execute the coroutine and return the result.\u001b[39;00m\n\u001b[32m    162\u001b[39m \n\u001b[32m    163\u001b[39m \u001b[33;03mThis function runs the passed coroutine, taking care of\u001b[39;00m\n\u001b[32m   (...)\u001b[39m\u001b[32m    187\u001b[39m \u001b[33;03m    asyncio.run(main())\u001b[39;00m\n\u001b[32m    188\u001b[39m \u001b[33;03m\"\"\"\u001b[39;00m\n\u001b[32m    189\u001b[39m \u001b[38;5;28;01mif\u001b[39;00m events._get_running_loop() \u001b[38;5;129;01mis\u001b[39;00m \u001b[38;5;129;01mnot\u001b[39;00m \u001b[38;5;28;01mNone\u001b[39;00m:\n\u001b[32m    190\u001b[39m     \u001b[38;5;66;03m# fail fast with short traceback\u001b[39;00m\n\u001b[32m--> \u001b[39m\u001b[32m191\u001b[39m     \u001b[38;5;28;01mraise\u001b[39;00m \u001b[38;5;167;01mRuntimeError\u001b[39;00m(\n\u001b[32m    192\u001b[39m         \u001b[33m\"\u001b[39m\u001b[33masyncio.run() cannot be called from a running event loop\u001b[39m\u001b[33m\"\u001b[39m)\n\u001b[32m    194\u001b[39m \u001b[38;5;28;01mwith\u001b[39;00m Runner(debug=debug, loop_factory=loop_factory) \u001b[38;5;28;01mas\u001b[39;00m runner:\n\u001b[32m    195\u001b[39m     \u001b[38;5;28;01mreturn\u001b[39;00m runner.run(main)\n",
      "\u001b[31mRuntimeError\u001b[39m: asyncio.run() cannot be called from a running event loop"
     ]
    }
   ],
   "source": [
    "import json\n",
    "import time\n",
    "import random\n",
    "import asyncio\n",
    "import aiohttp\n",
    "\n",
    "\n",
    "#ham get token access de crawl du lieu befood\n",
    "async def get_token(session):\n",
    "    url = \"https://gw.be.com.vn/api/v1/be-delivery-gateway/api/v1/user/guest\"\n",
    "\n",
    "    payload = json.dumps({\n",
    "    \"locale\": \"vi\",\n",
    "    \"app_version\": \"11280\",\n",
    "    \"version\": \"1.1.280\",\n",
    "    \"device_type\": 3,\n",
    "    \"operator_token\": \"0b28e008bc323838f5ec84f718ef11e6\",\n",
    "    \"customer_package_name\": \"xyz.be.food\",\n",
    "    \"device_token\": \"\",\n",
    "    \"ad_id\": \"\",\n",
    "    \"screen_width\": 360,\n",
    "    \"screen_height\": 640,\n",
    "    \"access_token\": \"PENDING\",\n",
    "    \"client_info\": {\n",
    "        \"locale\": \"vi\",\n",
    "        \"app_version\": \"11280\",\n",
    "        \"version\": \"1.1.280\",\n",
    "        \"device_type\": 3,\n",
    "        \"operator_token\": \"0b28e008bc323838f5ec84f718ef11e6\",\n",
    "        \"customer_package_name\": \"xyz.be.food\",\n",
    "        \"device_token\": \"\",\n",
    "        \"ad_id\": \"\",\n",
    "        \"screen_width\": 360,\n",
    "        \"screen_height\": 640,\n",
    "        \"access_token\": \"PENDING\"\n",
    "    },\n",
    "    \"latitude\": None,\n",
    "    \"longitude\": None\n",
    "    })\n",
    "\n",
    "    headers = {\n",
    "    'accept': '*/*',\n",
    "    'accept-language': 'vi-VN,vi;q=0.9,fr-FR;q=0.8,fr;q=0.7,en-US;q=0.6,en;q=0.5',\n",
    "    'access_token': 'PENDING',\n",
    "    'app_version': '11280',\n",
    "    'content-type': 'application/json',\n",
    "    'origin': 'https://food.be.com.vn',\n",
    "    'priority': 'u=1, i',\n",
    "    'referer': 'https://food.be.com.vn/',\n",
    "    'sec-ch-ua': '\"Not)A;Brand\";v=\"8\", \"Chromium\";v=\"138\", \"Google Chrome\";v=\"138\"',\n",
    "    'sec-ch-ua-mobile': '?0',\n",
    "    'sec-ch-ua-platform': '\"Linux\"',\n",
    "    'sec-fetch-dest': 'empty',\n",
    "    'sec-fetch-mode': 'cors',\n",
    "    'sec-fetch-site': 'same-site',\n",
    "    'user-agent': 'Mozilla/5.0 (X11; Linux x86_64) AppleWebKit/537.36 (KHTML, like Gecko) Chrome/138.0.0.0 Safari/537.36'\n",
    "    }\n",
    "\n",
    "    async with session.post(url, headers = headers, json = payload) as response:\n",
    "        data = await response.json()\n",
    "    return data[\"access_token\"]\n",
    "\n",
    "if __name__ == \"__main__\":\n",
    "    async with aiohttp.ClientSession() as session:\n",
    "     print (asyncio.run(get_token(session)))"
   ]
  },
  {
   "cell_type": "code",
   "execution_count": null,
   "id": "ea0dae57",
   "metadata": {},
   "outputs": [],
   "source": []
  }
 ],
 "metadata": {
  "kernelspec": {
   "display_name": "base",
   "language": "python",
   "name": "python3"
  },
  "language_info": {
   "codemirror_mode": {
    "name": "ipython",
    "version": 3
   },
   "file_extension": ".py",
   "mimetype": "text/x-python",
   "name": "python",
   "nbconvert_exporter": "python",
   "pygments_lexer": "ipython3",
   "version": "3.13.2"
  }
 },
 "nbformat": 4,
 "nbformat_minor": 5
}
